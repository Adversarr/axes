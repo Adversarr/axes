{
 "cells": [
  {
   "cell_type": "code",
   "execution_count": 12,
   "metadata": {},
   "outputs": [],
   "source": [
    "import sympy as sp\n",
    "from sympy.abc import a,b,c,d,e,f,g,h,i,A,B,C,D,E,F,G,H,I, t"
   ]
  },
  {
   "cell_type": "code",
   "execution_count": 13,
   "metadata": {},
   "outputs": [],
   "source": [
    "v0 = sp.Matrix([a,b,c])\n",
    "v1 = sp.Matrix([A,B,C])\n",
    "e00 = sp.Matrix([d,e,f])\n",
    "e01 = sp.Matrix([g,h,i])\n",
    "e10 = sp.Matrix([D,E,F])\n",
    "e11 = sp.Matrix([G,H,I])"
   ]
  },
  {
   "cell_type": "code",
   "execution_count": 15,
   "metadata": {},
   "outputs": [],
   "source": [
    "F0 = sp.Matrix([[a,b,c], [d,e,f], [g,h,i]])\n",
    "F1 = sp.Matrix([[A,B,C], [D,E,F], [G,H,I]])"
   ]
  },
  {
   "cell_type": "code",
   "execution_count": 16,
   "metadata": {},
   "outputs": [
    {
     "data": {
      "text/latex": [
       "$\\displaystyle \\left[\\begin{matrix}A t + a \\left(1 - t\\right) & B t + b \\left(1 - t\\right) & C t + c \\left(1 - t\\right)\\\\D t + d \\left(1 - t\\right) & E t + e \\left(1 - t\\right) & F t + f \\left(1 - t\\right)\\\\G t + g \\left(1 - t\\right) & H t + h \\left(1 - t\\right) & I t + i \\left(1 - t\\right)\\end{matrix}\\right]$"
      ],
      "text/plain": [
       "Matrix([\n",
       "[A*t + a*(1 - t), B*t + b*(1 - t), C*t + c*(1 - t)],\n",
       "[D*t + d*(1 - t), E*t + e*(1 - t), F*t + f*(1 - t)],\n",
       "[G*t + g*(1 - t), H*t + h*(1 - t), I*t + i*(1 - t)]])"
      ]
     },
     "execution_count": 16,
     "metadata": {},
     "output_type": "execute_result"
    }
   ],
   "source": [
    "Ft = ((1 - t) * F0 + t * F1)\n",
    "Ft"
   ]
  },
  {
   "cell_type": "code",
   "execution_count": 17,
   "metadata": {},
   "outputs": [],
   "source": [
    "dist = Ft.det()"
   ]
  },
  {
   "cell_type": "code",
   "execution_count": 19,
   "metadata": {},
   "outputs": [
    {
     "name": "stdout",
     "output_type": "stream",
     "text": [
      "0 a*e*i - a*f*h - b*d*i + b*f*g + c*d*h - c*e*g\n",
      "1 t*(A*e*i - A*f*h - B*d*i + B*f*g + C*d*h - C*e*g - D*b*i + D*c*h + E*a*i - E*c*g - F*a*h + F*b*g + G*b*f - G*c*e - H*a*f + H*c*d + I*a*e - I*b*d - 3*a*e*i + 3*a*f*h + 3*b*d*i - 3*b*f*g - 3*c*d*h + 3*c*e*g)\n",
      "2 t**2*(A*E*i - A*F*h - A*H*f + A*I*e - 2*A*e*i + 2*A*f*h - B*D*i + B*F*g + B*G*f - B*I*d + 2*B*d*i - 2*B*f*g + C*D*h - C*E*g - C*G*e + C*H*d - 2*C*d*h + 2*C*e*g + D*H*c - D*I*b + 2*D*b*i - 2*D*c*h - E*G*c + E*I*a - 2*E*a*i + 2*E*c*g + F*G*b - F*H*a + 2*F*a*h - 2*F*b*g - 2*G*b*f + 2*G*c*e + 2*H*a*f - 2*H*c*d - 2*I*a*e + 2*I*b*d + 3*a*e*i - 3*a*f*h - 3*b*d*i + 3*b*f*g + 3*c*d*h - 3*c*e*g)\n",
      "3 t**3*(A*E*I - A*E*i - A*F*H + A*F*h + A*H*f - A*I*e + A*e*i - A*f*h - B*D*I + B*D*i + B*F*G - B*F*g - B*G*f + B*I*d - B*d*i + B*f*g + C*D*H - C*D*h - C*E*G + C*E*g + C*G*e - C*H*d + C*d*h - C*e*g - D*H*c + D*I*b - D*b*i + D*c*h + E*G*c - E*I*a + E*a*i - E*c*g - F*G*b + F*H*a - F*a*h + F*b*g + G*b*f - G*c*e - H*a*f + H*c*d + I*a*e - I*b*d - a*e*i + a*f*h + b*d*i - b*f*g - c*d*h + c*e*g)\n"
     ]
    }
   ],
   "source": [
    "for i in range(4):\n",
    "  print(i, dist.taylor_term(i, t).simplify())"
   ]
  },
  {
   "cell_type": "code",
   "execution_count": null,
   "metadata": {},
   "outputs": [],
   "source": []
  }
 ],
 "metadata": {
  "kernelspec": {
   "display_name": "base",
   "language": "python",
   "name": "python3"
  },
  "language_info": {
   "codemirror_mode": {
    "name": "ipython",
    "version": 3
   },
   "file_extension": ".py",
   "mimetype": "text/x-python",
   "name": "python",
   "nbconvert_exporter": "python",
   "pygments_lexer": "ipython3",
   "version": "3.11.9"
  },
  "orig_nbformat": 4,
  "vscode": {
   "interpreter": {
    "hash": "38cca0c38332a56087b24af0bc80247f4fced29cb4f7f437d91dc159adec9c4e"
   }
  }
 },
 "nbformat": 4,
 "nbformat_minor": 2
}
