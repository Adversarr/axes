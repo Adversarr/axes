{
 "cells": [
  {
   "cell_type": "code",
   "execution_count": 1,
   "metadata": {},
   "outputs": [],
   "source": [
    "import sympy as sp\n",
    "from sympy.abc import a,b,c,d,e,f,g,h,i,A,B,C,D,E,F,G,H,I, t"
   ]
  },
  {
   "cell_type": "code",
   "execution_count": 2,
   "metadata": {},
   "outputs": [],
   "source": [
    "v0 = sp.Matrix([a,b,c])\n",
    "v1 = sp.Matrix([A,B,C])\n",
    "e00 = sp.Matrix([d,e,f])\n",
    "e01 = sp.Matrix([g,h,i])\n",
    "e10 = sp.Matrix([D,E,F])\n",
    "e11 = sp.Matrix([G,H,I])"
   ]
  },
  {
   "cell_type": "code",
   "execution_count": 3,
   "metadata": {},
   "outputs": [],
   "source": [
    "F0 = sp.Matrix([[a,b,c], [d,e,f], [g,h,i]])\n",
    "F1 = sp.Matrix([[A,B,C], [D,E,F], [G,H,I]])"
   ]
  },
  {
   "cell_type": "code",
   "execution_count": 4,
   "metadata": {},
   "outputs": [
    {
     "data": {
      "text/latex": [
       "$\\displaystyle \\left[\\begin{matrix}A t + a \\left(1 - t\\right) & B t + b \\left(1 - t\\right) & C t + c \\left(1 - t\\right)\\\\D t + d \\left(1 - t\\right) & E t + e \\left(1 - t\\right) & F t + f \\left(1 - t\\right)\\\\G t + g \\left(1 - t\\right) & H t + h \\left(1 - t\\right) & I t + i \\left(1 - t\\right)\\end{matrix}\\right]$"
      ],
      "text/plain": [
       "Matrix([\n",
       "[A*t + a*(1 - t), B*t + b*(1 - t), C*t + c*(1 - t)],\n",
       "[D*t + d*(1 - t), E*t + e*(1 - t), F*t + f*(1 - t)],\n",
       "[G*t + g*(1 - t), H*t + h*(1 - t), I*t + i*(1 - t)]])"
      ]
     },
     "execution_count": 4,
     "metadata": {},
     "output_type": "execute_result"
    }
   ],
   "source": [
    "Ft = ((1 - t) * F0 + t * F1)\n",
    "Ft"
   ]
  },
  {
   "cell_type": "code",
   "execution_count": 5,
   "metadata": {},
   "outputs": [],
   "source": [
    "dist = Ft.det()"
   ]
  },
  {
   "cell_type": "code",
   "execution_count": 6,
   "metadata": {},
   "outputs": [
    {
     "name": "stdout",
     "output_type": "stream",
     "text": [
      "0 a*e*i - a*f*h - b*d*i + b*f*g + c*d*h - c*e*g\n",
      "1 t*(A*e*i - A*f*h - B*d*i + B*f*g + C*d*h - C*e*g - D*b*i + D*c*h + E*a*i - E*c*g - F*a*h + F*b*g + G*b*f - G*c*e - H*a*f + H*c*d + I*a*e - I*b*d - 3*a*e*i + 3*a*f*h + 3*b*d*i - 3*b*f*g - 3*c*d*h + 3*c*e*g)\n",
      "2 t**2*(A*E*i - A*F*h - A*H*f + A*I*e - 2*A*e*i + 2*A*f*h - B*D*i + B*F*g + B*G*f - B*I*d + 2*B*d*i - 2*B*f*g + C*D*h - C*E*g - C*G*e + C*H*d - 2*C*d*h + 2*C*e*g + D*H*c - D*I*b + 2*D*b*i - 2*D*c*h - E*G*c + E*I*a - 2*E*a*i + 2*E*c*g + F*G*b - F*H*a + 2*F*a*h - 2*F*b*g - 2*G*b*f + 2*G*c*e + 2*H*a*f - 2*H*c*d - 2*I*a*e + 2*I*b*d + 3*a*e*i - 3*a*f*h - 3*b*d*i + 3*b*f*g + 3*c*d*h - 3*c*e*g)\n",
      "3 t**3*(A*E*I - A*E*i - A*F*H + A*F*h + A*H*f - A*I*e + A*e*i - A*f*h - B*D*I + B*D*i + B*F*G - B*F*g - B*G*f + B*I*d - B*d*i + B*f*g + C*D*H - C*D*h - C*E*G + C*E*g + C*G*e - C*H*d + C*d*h - C*e*g - D*H*c + D*I*b - D*b*i + D*c*h + E*G*c - E*I*a + E*a*i - E*c*g - F*G*b + F*H*a - F*a*h + F*b*g + G*b*f - G*c*e - H*a*f + H*c*d + I*a*e - I*b*d - a*e*i + a*f*h + b*d*i - b*f*g - c*d*h + c*e*g)\n"
     ]
    }
   ],
   "source": [
    "for i in range(4):\n",
    "  print(i, dist.taylor_term(i, t).simplify())"
   ]
  },
  {
   "cell_type": "markdown",
   "metadata": {},
   "source": [
    "Vertex to edge:"
   ]
  },
  {
   "cell_type": "code",
   "execution_count": 29,
   "metadata": {},
   "outputs": [],
   "source": [
    "distance_ve = (((1-t) * v0 + t * v1).cross(e00))\n",
    "d2 = distance_ve.dot(distance_ve)"
   ]
  },
  {
   "cell_type": "code",
   "execution_count": 30,
   "metadata": {},
   "outputs": [
    {
     "name": "stdout",
     "output_type": "stream",
     "text": [
      "(a*e - b*d)**2 + (a*f - c*d)**2 + (b*f - c*e)**2\n"
     ]
    }
   ],
   "source": [
    "print(d2.taylor_term(0, t).simplify())"
   ]
  },
  {
   "cell_type": "code",
   "execution_count": 31,
   "metadata": {},
   "outputs": [
    {
     "name": "stdout",
     "output_type": "stream",
     "text": [
      "-2*t*((a*e - b*d)*(d*(B - b) - e*(A - a)) + (a*f - c*d)*(d*(C - c) - f*(A - a)) + (b*f - c*e)*(e*(C - c) - f*(B - b)))\n"
     ]
    }
   ],
   "source": [
    "print(d2.taylor_term(1, t).simplify())"
   ]
  },
  {
   "cell_type": "code",
   "execution_count": 32,
   "metadata": {},
   "outputs": [
    {
     "name": "stdout",
     "output_type": "stream",
     "text": [
      "t**2*((d*(B - b) - e*(A - a))**2 + (d*(C - c) - f*(A - a))**2 + (e*(C - c) - f*(B - b))**2)\n"
     ]
    }
   ],
   "source": [
    "print(d2.taylor_term(2, t).simplify())\n"
   ]
  },
  {
   "cell_type": "code",
   "execution_count": 4,
   "metadata": {},
   "outputs": [
    {
     "data": {
      "text/latex": [
       "$\\displaystyle \\left[\\begin{matrix}A t - D t + a \\left(1 - t\\right) - d \\left(1 - t\\right)\\\\B t - E t + b \\left(1 - t\\right) - e \\left(1 - t\\right)\\\\C t - F t + c \\left(1 - t\\right) - f \\left(1 - t\\right)\\end{matrix}\\right]$"
      ],
      "text/plain": [
       "Matrix([\n",
       "[A*t - D*t + a*(1 - t) - d*(1 - t)],\n",
       "[B*t - E*t + b*(1 - t) - e*(1 - t)],\n",
       "[C*t - F*t + c*(1 - t) - f*(1 - t)]])"
      ]
     },
     "execution_count": 4,
     "metadata": {},
     "output_type": "execute_result"
    }
   ],
   "source": [
    "v2 = sp.Matrix([d, e, f])\n",
    "v3 = sp.Matrix([D, E, F])\n",
    "\n",
    "point_diff = ((1-t) * v0 + t * v1) - ((1-t) * v2 + t * v3); point_diff"
   ]
  },
  {
   "cell_type": "code",
   "execution_count": 5,
   "metadata": {},
   "outputs": [
    {
     "data": {
      "text/latex": [
       "$\\displaystyle \\left(A t - D t - a \\left(t - 1\\right) + d \\left(t - 1\\right)\\right)^{2} + \\left(B t - E t - b \\left(t - 1\\right) + e \\left(t - 1\\right)\\right)^{2} + \\left(C t - F t - c \\left(t - 1\\right) + f \\left(t - 1\\right)\\right)^{2}$"
      ],
      "text/plain": [
       "(A*t - D*t - a*(t - 1) + d*(t - 1))**2 + (B*t - E*t - b*(t - 1) + e*(t - 1))**2 + (C*t - F*t - c*(t - 1) + f*(t - 1))**2"
      ]
     },
     "execution_count": 5,
     "metadata": {},
     "output_type": "execute_result"
    }
   ],
   "source": [
    "point_distance2 = point_diff.dot(point_diff).simplify()\n",
    "point_distance2"
   ]
  },
  {
   "cell_type": "code",
   "execution_count": 6,
   "metadata": {},
   "outputs": [
    {
     "name": "stdout",
     "output_type": "stream",
     "text": [
      "0 (a - d)**2 + (b - e)**2 + (c - f)**2\n",
      "1 2*t*((a - d)*(A - D - a + d) + (b - e)*(B - E - b + e) + (c - f)*(C - F - c + f))\n",
      "2 t**2*((A - D - a + d)**2 + (B - E - b + e)**2 + (C - F - c + f)**2)\n"
     ]
    }
   ],
   "source": [
    "for i in range(3):\n",
    "  print(i, point_distance2.taylor_term(i, t).simplify())"
   ]
  },
  {
   "cell_type": "code",
   "execution_count": null,
   "metadata": {},
   "outputs": [],
   "source": []
  }
 ],
 "metadata": {
  "kernelspec": {
   "display_name": "base",
   "language": "python",
   "name": "python3"
  },
  "language_info": {
   "codemirror_mode": {
    "name": "ipython",
    "version": 3
   },
   "file_extension": ".py",
   "mimetype": "text/x-python",
   "name": "python",
   "nbconvert_exporter": "python",
   "pygments_lexer": "ipython3",
   "version": "3.12.1"
  },
  "orig_nbformat": 4,
  "vscode": {
   "interpreter": {
    "hash": "38cca0c38332a56087b24af0bc80247f4fced29cb4f7f437d91dc159adec9c4e"
   }
  }
 },
 "nbformat": 4,
 "nbformat_minor": 2
}
