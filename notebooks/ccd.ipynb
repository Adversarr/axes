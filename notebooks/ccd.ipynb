{
 "cells": [
  {
   "cell_type": "code",
   "execution_count": 2,
   "metadata": {},
   "outputs": [],
   "source": [
    "import sympy as sp\n",
    "from sympy.abc import a,b,c,d,e,f,g,h,i,A,B,C,D,E,F,G,H,I,t"
   ]
  },
  {
   "cell_type": "code",
   "execution_count": 3,
   "metadata": {},
   "outputs": [],
   "source": [
    "v_0 = sp.Matrix([a,b,c])\n",
    "v_1 = sp.Matrix([A,B,C])"
   ]
  },
  {
   "cell_type": "code",
   "execution_count": 4,
   "metadata": {},
   "outputs": [],
   "source": [
    "e00 = sp.Matrix([d,e,f])\n",
    "e10 = sp.Matrix([D,E,F])\n",
    "e01 = sp.Matrix([g,h,i])\n",
    "e11 = sp.Matrix([G,H,I])"
   ]
  },
  {
   "cell_type": "code",
   "execution_count": 7,
   "metadata": {},
   "outputs": [],
   "source": [
    "# t = 0:\n",
    "e00v = e00 - v_0\n",
    "e01v = e10 - v_0\n",
    "# t = 1\n",
    "e10v = e01 - v_1\n",
    "e11v = e11 - v_1"
   ]
  },
  {
   "cell_type": "code",
   "execution_count": 11,
   "metadata": {},
   "outputs": [],
   "source": [
    "cd = ((1 - t) * e00v + t * e10v).cross((1 - t) * e01v + t * e11v)"
   ]
  },
  {
   "cell_type": "code",
   "execution_count": 18,
   "metadata": {},
   "outputs": [
    {
     "data": {
      "text/latex": [
       "$\\displaystyle - \\left(t \\left(- B + H\\right) + \\left(1 - t\\right) \\left(E - b\\right)\\right) \\left(t \\left(- C + i\\right) + \\left(1 - t\\right) \\left(- c + f\\right)\\right) + \\left(t \\left(- B + h\\right) + \\left(1 - t\\right) \\left(- b + e\\right)\\right) \\left(t \\left(- C + I\\right) + \\left(1 - t\\right) \\left(F - c\\right)\\right)$"
      ],
      "text/plain": [
       "-(t*(-B + H) + (1 - t)*(E - b))*(t*(-C + i) + (1 - t)*(-c + f)) + (t*(-B + h) + (1 - t)*(-b + e))*(t*(-C + I) + (1 - t)*(F - c))"
      ]
     },
     "execution_count": 18,
     "metadata": {},
     "output_type": "execute_result"
    }
   ],
   "source": [
    "cd0 = cd[0]; cd0"
   ]
  },
  {
   "cell_type": "code",
   "execution_count": 21,
   "metadata": {},
   "outputs": [
    {
     "name": "stdout",
     "output_type": "stream",
     "text": [
      "0 (E - b)*(c - f) - (F - c)*(b - e)\n",
      "1 t*((E - b)*(C - c + f - i) - (F - c)*(B - b + e - h) + (b - e)*(C + F - I - c) - (c - f)*(B + E - H - b))\n",
      "2 t**2*(-(B + E - H - b)*(C - c + f - i) + (B - b + e - h)*(C + F - I - c))\n",
      "3 0\n"
     ]
    }
   ],
   "source": [
    "for i in range(4):\n",
    "  print(i, cd0.taylor_term(i, t).simplify())"
   ]
  },
  {
   "cell_type": "code",
   "execution_count": null,
   "metadata": {},
   "outputs": [],
   "source": []
  }
 ],
 "metadata": {
  "kernelspec": {
   "display_name": "axes",
   "language": "python",
   "name": "python3"
  },
  "language_info": {
   "codemirror_mode": {
    "name": "ipython",
    "version": 3
   },
   "file_extension": ".py",
   "mimetype": "text/x-python",
   "name": "python",
   "nbconvert_exporter": "python",
   "pygments_lexer": "ipython3",
   "version": "3.12.1"
  }
 },
 "nbformat": 4,
 "nbformat_minor": 2
}
